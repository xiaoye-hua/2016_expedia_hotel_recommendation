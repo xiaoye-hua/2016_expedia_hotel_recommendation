{
 "cells": [
  {
   "cell_type": "markdown",
   "id": "7bf349df",
   "metadata": {},
   "source": [
    "# TODO "
   ]
  },
  {
   "cell_type": "markdown",
   "id": "2e3f7f7f",
   "metadata": {},
   "source": [
    "1. [ ] there isn't `hotel_cluster` label in test data??"
   ]
  },
  {
   "cell_type": "markdown",
   "id": "1ff0770c",
   "metadata": {},
   "source": [
    "# Package "
   ]
  },
  {
   "cell_type": "code",
   "execution_count": 1,
   "id": "99a88107",
   "metadata": {},
   "outputs": [],
   "source": [
    "# ! pip install pandas_profiling"
   ]
  },
  {
   "cell_type": "code",
   "execution_count": 20,
   "id": "fc8030b9",
   "metadata": {},
   "outputs": [],
   "source": [
    "import pandas as pd\n",
    "import pandas_profiling\n",
    "from pprint import pprint"
   ]
  },
  {
   "cell_type": "markdown",
   "id": "403383a1",
   "metadata": {},
   "source": [
    "# Config"
   ]
  },
  {
   "cell_type": "code",
   "execution_count": 14,
   "id": "51bb1b19",
   "metadata": {},
   "outputs": [],
   "source": [
    "target_col = 'is_booking'"
   ]
  },
  {
   "cell_type": "markdown",
   "id": "df8df104",
   "metadata": {},
   "source": [
    "# Basic data info"
   ]
  },
  {
   "cell_type": "code",
   "execution_count": 6,
   "id": "fc28c741",
   "metadata": {},
   "outputs": [],
   "source": [
    "train_df = pd.read_csv('../data/raw_data/train.csv'\n",
    "#                        , nrows=100000\n",
    "                      )"
   ]
  },
  {
   "cell_type": "code",
   "execution_count": 10,
   "id": "30f66585",
   "metadata": {},
   "outputs": [],
   "source": [
    "test_df = pd.read_csv('../data/raw_data/test.csv')"
   ]
  },
  {
   "cell_type": "code",
   "execution_count": 156,
   "id": "eedfc287",
   "metadata": {},
   "outputs": [],
   "source": [
    "destination_df = pd.read_csv('../data/raw_data/destinations.csv')"
   ]
  },
  {
   "cell_type": "code",
   "execution_count": 63,
   "id": "f771c54a",
   "metadata": {},
   "outputs": [],
   "source": [
    "submission_df = pd.read_csv('../data/raw_data/sample_submission.csv')"
   ]
  },
  {
   "cell_type": "code",
   "execution_count": 157,
   "id": "e3a33e01",
   "metadata": {},
   "outputs": [
    {
     "name": "stdout",
     "output_type": "stream",
     "text": [
      "train: (37670293, 24); test: (2528243, 22); submission: (2528243, 2); destination: (62106, 150)\n"
     ]
    }
   ],
   "source": [
    "print(f\"train: {train_df.shape}; test: {test_df.shape}; submission: {submission_df.shape}; destination: {destination_df.shape}\")"
   ]
  },
  {
   "cell_type": "code",
   "execution_count": 66,
   "id": "6e0290ce",
   "metadata": {
    "scrolled": true
   },
   "outputs": [
    {
     "data": {
      "text/html": [
       "<div>\n",
       "<style scoped>\n",
       "    .dataframe tbody tr th:only-of-type {\n",
       "        vertical-align: middle;\n",
       "    }\n",
       "\n",
       "    .dataframe tbody tr th {\n",
       "        vertical-align: top;\n",
       "    }\n",
       "\n",
       "    .dataframe thead th {\n",
       "        text-align: right;\n",
       "    }\n",
       "</style>\n",
       "<table border=\"1\" class=\"dataframe\">\n",
       "  <thead>\n",
       "    <tr style=\"text-align: right;\">\n",
       "      <th></th>\n",
       "      <th>id</th>\n",
       "      <th>hotel_cluster</th>\n",
       "    </tr>\n",
       "  </thead>\n",
       "  <tbody>\n",
       "    <tr>\n",
       "      <th>0</th>\n",
       "      <td>0</td>\n",
       "      <td>99 1</td>\n",
       "    </tr>\n",
       "    <tr>\n",
       "      <th>1</th>\n",
       "      <td>1</td>\n",
       "      <td>99 1</td>\n",
       "    </tr>\n",
       "    <tr>\n",
       "      <th>2</th>\n",
       "      <td>2</td>\n",
       "      <td>99 1</td>\n",
       "    </tr>\n",
       "    <tr>\n",
       "      <th>3</th>\n",
       "      <td>3</td>\n",
       "      <td>99 1</td>\n",
       "    </tr>\n",
       "    <tr>\n",
       "      <th>4</th>\n",
       "      <td>4</td>\n",
       "      <td>99 1</td>\n",
       "    </tr>\n",
       "  </tbody>\n",
       "</table>\n",
       "</div>"
      ],
      "text/plain": [
       "   id hotel_cluster\n",
       "0   0          99 1\n",
       "1   1          99 1\n",
       "2   2          99 1\n",
       "3   3          99 1\n",
       "4   4          99 1"
      ]
     },
     "execution_count": 66,
     "metadata": {},
     "output_type": "execute_result"
    }
   ],
   "source": [
    "submission_df.head()"
   ]
  },
  {
   "cell_type": "code",
   "execution_count": 67,
   "id": "1c8ba4bd",
   "metadata": {},
   "outputs": [
    {
     "data": {
      "text/plain": [
       "2528243"
      ]
     },
     "execution_count": 67,
     "metadata": {},
     "output_type": "execute_result"
    }
   ],
   "source": [
    "len(submission_df['id'].unique())"
   ]
  },
  {
   "cell_type": "code",
   "execution_count": 12,
   "id": "38ca2865",
   "metadata": {},
   "outputs": [
    {
     "data": {
      "text/plain": [
       "{'cnt', 'hotel_cluster', 'is_booking'}"
      ]
     },
     "execution_count": 12,
     "metadata": {},
     "output_type": "execute_result"
    }
   ],
   "source": [
    "set(train_df.columns) - set(test_df.columns)"
   ]
  },
  {
   "cell_type": "code",
   "execution_count": 13,
   "id": "f805db62",
   "metadata": {},
   "outputs": [
    {
     "data": {
      "text/plain": [
       "{'id'}"
      ]
     },
     "execution_count": 13,
     "metadata": {},
     "output_type": "execute_result"
    }
   ],
   "source": [
    "set(test_df.columns) - set(train_df.columns)"
   ]
  },
  {
   "cell_type": "markdown",
   "id": "adeb4040",
   "metadata": {},
   "source": [
    "## Date "
   ]
  },
  {
   "cell_type": "code",
   "execution_count": 185,
   "id": "7736d2b5",
   "metadata": {},
   "outputs": [
    {
     "data": {
      "text/plain": [
       "0    2014-08-11 07:46:59\n",
       "1    2014-08-11 08:22:12\n",
       "2    2014-08-11 08:24:33\n",
       "3    2014-08-09 18:05:16\n",
       "4    2014-08-09 18:08:18\n",
       "Name: date_time, dtype: object"
      ]
     },
     "execution_count": 185,
     "metadata": {},
     "output_type": "execute_result"
    }
   ],
   "source": [
    "train_df['date_time'].head()"
   ]
  },
  {
   "cell_type": "code",
   "execution_count": 176,
   "id": "aba4c741",
   "metadata": {},
   "outputs": [],
   "source": [
    "train_df['year'] = pd.to_datetime(train_df['date_time']).dt.year\n",
    "train_df['month'] = pd.to_datetime(train_df['date_time']).dt.month\n",
    "train_df['day'] = pd.to_datetime(train_df['date_time']).dt.day"
   ]
  },
  {
   "cell_type": "code",
   "execution_count": 174,
   "id": "ad611645",
   "metadata": {},
   "outputs": [
    {
     "data": {
      "text/plain": [
       "2014    26483412\n",
       "2013    11186881\n",
       "Name: year, dtype: int64"
      ]
     },
     "execution_count": 174,
     "metadata": {},
     "output_type": "execute_result"
    }
   ],
   "source": [
    "train_df['year'].value_counts()"
   ]
  },
  {
   "cell_type": "code",
   "execution_count": 175,
   "id": "1ad9222c",
   "metadata": {},
   "outputs": [
    {
     "data": {
      "text/plain": [
       "7     3893567\n",
       "8     3773730\n",
       "12    3746582\n",
       "10    3705635\n",
       "9     3700667\n",
       "11    3434723\n",
       "6     3190844\n",
       "5     2840308\n",
       "3     2743173\n",
       "4     2712327\n",
       "2     1975372\n",
       "1     1953365\n",
       "Name: month, dtype: int64"
      ]
     },
     "execution_count": 175,
     "metadata": {},
     "output_type": "execute_result"
    }
   ],
   "source": [
    "train_df['month'].value_counts()"
   ]
  },
  {
   "cell_type": "code",
   "execution_count": 172,
   "id": "4e236bb6",
   "metadata": {},
   "outputs": [
    {
     "data": {
      "text/plain": [
       "<pandas.core.indexes.accessors.DatetimeProperties object at 0x7fbf2390bf10>"
      ]
     },
     "execution_count": 172,
     "metadata": {},
     "output_type": "execute_result"
    }
   ],
   "source": [
    "pd.to_datetime(train_df['date_time']).dt.yera"
   ]
  },
  {
   "cell_type": "code",
   "execution_count": 177,
   "id": "e8a2bb96",
   "metadata": {},
   "outputs": [],
   "source": [
    "test_df['year'] = pd.to_datetime(test_df['date_time']).dt.year\n",
    "test_df['month'] = pd.to_datetime(test_df['date_time']).dt.month\n",
    "test_df['day'] = pd.to_datetime(test_df['date_time']).dt.day"
   ]
  },
  {
   "cell_type": "code",
   "execution_count": 179,
   "id": "6ca59e38",
   "metadata": {},
   "outputs": [
    {
     "data": {
      "text/plain": [
       "2015    2528243\n",
       "Name: year, dtype: int64"
      ]
     },
     "execution_count": 179,
     "metadata": {},
     "output_type": "execute_result"
    }
   ],
   "source": [
    "test_df['year'].value_counts()"
   ]
  },
  {
   "cell_type": "code",
   "execution_count": 181,
   "id": "fd956a6a",
   "metadata": {},
   "outputs": [
    {
     "data": {
      "text/plain": [
       "3     251646\n",
       "7     238044\n",
       "6     237412\n",
       "5     231979\n",
       "4     223917\n",
       "8     223742\n",
       "2     220614\n",
       "9     196494\n",
       "1     196332\n",
       "10    186424\n",
       "11    167820\n",
       "12    153819\n",
       "Name: month, dtype: int64"
      ]
     },
     "execution_count": 181,
     "metadata": {},
     "output_type": "execute_result"
    }
   ],
   "source": [
    "test_df['month'].value_counts()"
   ]
  },
  {
   "cell_type": "code",
   "execution_count": 182,
   "id": "90efb632",
   "metadata": {},
   "outputs": [
    {
     "data": {
      "text/plain": [
       "8     89592\n",
       "9     89099\n",
       "13    88033\n",
       "15    87464\n",
       "10    86958\n",
       "16    86775\n",
       "14    86128\n",
       "12    85855\n",
       "11    85250\n",
       "23    85147\n",
       "22    85007\n",
       "27    84405\n",
       "17    84204\n",
       "20    83654\n",
       "19    83395\n",
       "18    83372\n",
       "28    83102\n",
       "21    82840\n",
       "26    81597\n",
       "2     80435\n",
       "24    80190\n",
       "3     79609\n",
       "25    79527\n",
       "6     78099\n",
       "30    77923\n",
       "1     77845\n",
       "7     77390\n",
       "29    76852\n",
       "4     76801\n",
       "5     76466\n",
       "31    45229\n",
       "Name: day, dtype: int64"
      ]
     },
     "execution_count": 182,
     "metadata": {},
     "output_type": "execute_result"
    }
   ],
   "source": [
    "test_df['day'].value_counts()"
   ]
  },
  {
   "cell_type": "markdown",
   "id": "4787c46b",
   "metadata": {},
   "source": [
    "# Target Variable  -> book_rate=0.080"
   ]
  },
  {
   "cell_type": "code",
   "execution_count": 16,
   "id": "92a2faa3",
   "metadata": {},
   "outputs": [
    {
     "data": {
      "text/plain": [
       "0    34669600\n",
       "1     3000693\n",
       "Name: is_booking, dtype: int64"
      ]
     },
     "execution_count": 16,
     "metadata": {},
     "output_type": "execute_result"
    }
   ],
   "source": [
    "train_df[target_col].value_counts()"
   ]
  },
  {
   "cell_type": "code",
   "execution_count": 15,
   "id": "f3cc6d2d",
   "metadata": {},
   "outputs": [
    {
     "data": {
      "text/plain": [
       "0    0.920343\n",
       "1    0.079657\n",
       "Name: is_booking, dtype: float64"
      ]
     },
     "execution_count": 15,
     "metadata": {},
     "output_type": "execute_result"
    }
   ],
   "source": [
    "train_df[target_col].value_counts()/len(train_df)"
   ]
  },
  {
   "cell_type": "markdown",
   "id": "bedbae6e",
   "metadata": {},
   "source": [
    "# Users"
   ]
  },
  {
   "cell_type": "code",
   "execution_count": 45,
   "id": "69c4895f",
   "metadata": {},
   "outputs": [
    {
     "name": "stdout",
     "output_type": "stream",
     "text": [
      "train_df: min: 0; max: 1198785\n",
      "test_df: min: 0; max: 1198785\n"
     ]
    }
   ],
   "source": [
    "print(f\"train_df: min: {min(train_df['user_id'])}; max: {max(train_df['user_id'])}\")\n",
    "print(f\"test_df: min: {min(test_df['user_id'])}; max: {max(test_df['user_id'])}\")\n"
   ]
  },
  {
   "cell_type": "code",
   "execution_count": 49,
   "id": "368946c4",
   "metadata": {},
   "outputs": [
    {
     "data": {
      "text/plain": [
       "1187360    530\n",
       "1040395    501\n",
       "124565     498\n",
       "1043120    495\n",
       "783124     491\n",
       "          ... \n",
       "981025       2\n",
       "669302       2\n",
       "73844        2\n",
       "909245       2\n",
       "886682       2\n",
       "Name: user_id, Length: 1198786, dtype: int64"
      ]
     },
     "execution_count": 49,
     "metadata": {},
     "output_type": "execute_result"
    }
   ],
   "source": [
    "train_df['user_id'].value_counts()"
   ]
  },
  {
   "cell_type": "code",
   "execution_count": 60,
   "id": "395189cc",
   "metadata": {},
   "outputs": [],
   "source": [
    "frac_df = (round(train_df['user_id'].value_counts()/10)*10).reset_index().rename(columns={\n",
    "    'user_id': 'sample_num_frac'\n",
    "})"
   ]
  },
  {
   "cell_type": "code",
   "execution_count": 61,
   "id": "b10b8eef",
   "metadata": {},
   "outputs": [
    {
     "data": {
      "text/html": [
       "<div>\n",
       "<style scoped>\n",
       "    .dataframe tbody tr th:only-of-type {\n",
       "        vertical-align: middle;\n",
       "    }\n",
       "\n",
       "    .dataframe tbody tr th {\n",
       "        vertical-align: top;\n",
       "    }\n",
       "\n",
       "    .dataframe thead th {\n",
       "        text-align: right;\n",
       "    }\n",
       "</style>\n",
       "<table border=\"1\" class=\"dataframe\">\n",
       "  <thead>\n",
       "    <tr style=\"text-align: right;\">\n",
       "      <th></th>\n",
       "      <th>index</th>\n",
       "      <th>sample_num_frac</th>\n",
       "    </tr>\n",
       "  </thead>\n",
       "  <tbody>\n",
       "    <tr>\n",
       "      <th>0</th>\n",
       "      <td>1187360</td>\n",
       "      <td>530.0</td>\n",
       "    </tr>\n",
       "    <tr>\n",
       "      <th>1</th>\n",
       "      <td>1040395</td>\n",
       "      <td>500.0</td>\n",
       "    </tr>\n",
       "    <tr>\n",
       "      <th>2</th>\n",
       "      <td>124565</td>\n",
       "      <td>500.0</td>\n",
       "    </tr>\n",
       "    <tr>\n",
       "      <th>3</th>\n",
       "      <td>1043120</td>\n",
       "      <td>500.0</td>\n",
       "    </tr>\n",
       "    <tr>\n",
       "      <th>4</th>\n",
       "      <td>783124</td>\n",
       "      <td>490.0</td>\n",
       "    </tr>\n",
       "    <tr>\n",
       "      <th>...</th>\n",
       "      <td>...</td>\n",
       "      <td>...</td>\n",
       "    </tr>\n",
       "    <tr>\n",
       "      <th>1198781</th>\n",
       "      <td>981025</td>\n",
       "      <td>0.0</td>\n",
       "    </tr>\n",
       "    <tr>\n",
       "      <th>1198782</th>\n",
       "      <td>669302</td>\n",
       "      <td>0.0</td>\n",
       "    </tr>\n",
       "    <tr>\n",
       "      <th>1198783</th>\n",
       "      <td>73844</td>\n",
       "      <td>0.0</td>\n",
       "    </tr>\n",
       "    <tr>\n",
       "      <th>1198784</th>\n",
       "      <td>909245</td>\n",
       "      <td>0.0</td>\n",
       "    </tr>\n",
       "    <tr>\n",
       "      <th>1198785</th>\n",
       "      <td>886682</td>\n",
       "      <td>0.0</td>\n",
       "    </tr>\n",
       "  </tbody>\n",
       "</table>\n",
       "<p>1198786 rows × 2 columns</p>\n",
       "</div>"
      ],
      "text/plain": [
       "           index  sample_num_frac\n",
       "0        1187360            530.0\n",
       "1        1040395            500.0\n",
       "2         124565            500.0\n",
       "3        1043120            500.0\n",
       "4         783124            490.0\n",
       "...          ...              ...\n",
       "1198781   981025              0.0\n",
       "1198782   669302              0.0\n",
       "1198783    73844              0.0\n",
       "1198784   909245              0.0\n",
       "1198785   886682              0.0\n",
       "\n",
       "[1198786 rows x 2 columns]"
      ]
     },
     "execution_count": 61,
     "metadata": {},
     "output_type": "execute_result"
    }
   ],
   "source": [
    "frac_df"
   ]
  },
  {
   "cell_type": "code",
   "execution_count": 62,
   "id": "464f88f8",
   "metadata": {},
   "outputs": [
    {
     "data": {
      "text/html": [
       "<div>\n",
       "<style scoped>\n",
       "    .dataframe tbody tr th:only-of-type {\n",
       "        vertical-align: middle;\n",
       "    }\n",
       "\n",
       "    .dataframe tbody tr th {\n",
       "        vertical-align: top;\n",
       "    }\n",
       "\n",
       "    .dataframe thead th {\n",
       "        text-align: right;\n",
       "    }\n",
       "</style>\n",
       "<table border=\"1\" class=\"dataframe\">\n",
       "  <thead>\n",
       "    <tr style=\"text-align: right;\">\n",
       "      <th></th>\n",
       "      <th>sample_num_frac</th>\n",
       "      <th>user_num</th>\n",
       "    </tr>\n",
       "  </thead>\n",
       "  <tbody>\n",
       "    <tr>\n",
       "      <th>51</th>\n",
       "      <td>530.0</td>\n",
       "      <td>1</td>\n",
       "    </tr>\n",
       "    <tr>\n",
       "      <th>49</th>\n",
       "      <td>500.0</td>\n",
       "      <td>3</td>\n",
       "    </tr>\n",
       "    <tr>\n",
       "      <th>50</th>\n",
       "      <td>490.0</td>\n",
       "      <td>2</td>\n",
       "    </tr>\n",
       "    <tr>\n",
       "      <th>48</th>\n",
       "      <td>480.0</td>\n",
       "      <td>7</td>\n",
       "    </tr>\n",
       "    <tr>\n",
       "      <th>47</th>\n",
       "      <td>470.0</td>\n",
       "      <td>9</td>\n",
       "    </tr>\n",
       "    <tr>\n",
       "      <th>46</th>\n",
       "      <td>460.0</td>\n",
       "      <td>13</td>\n",
       "    </tr>\n",
       "    <tr>\n",
       "      <th>45</th>\n",
       "      <td>450.0</td>\n",
       "      <td>19</td>\n",
       "    </tr>\n",
       "    <tr>\n",
       "      <th>44</th>\n",
       "      <td>440.0</td>\n",
       "      <td>41</td>\n",
       "    </tr>\n",
       "    <tr>\n",
       "      <th>43</th>\n",
       "      <td>430.0</td>\n",
       "      <td>43</td>\n",
       "    </tr>\n",
       "    <tr>\n",
       "      <th>42</th>\n",
       "      <td>420.0</td>\n",
       "      <td>60</td>\n",
       "    </tr>\n",
       "    <tr>\n",
       "      <th>41</th>\n",
       "      <td>410.0</td>\n",
       "      <td>78</td>\n",
       "    </tr>\n",
       "    <tr>\n",
       "      <th>39</th>\n",
       "      <td>400.0</td>\n",
       "      <td>160</td>\n",
       "    </tr>\n",
       "    <tr>\n",
       "      <th>40</th>\n",
       "      <td>390.0</td>\n",
       "      <td>158</td>\n",
       "    </tr>\n",
       "    <tr>\n",
       "      <th>38</th>\n",
       "      <td>380.0</td>\n",
       "      <td>208</td>\n",
       "    </tr>\n",
       "    <tr>\n",
       "      <th>37</th>\n",
       "      <td>370.0</td>\n",
       "      <td>242</td>\n",
       "    </tr>\n",
       "    <tr>\n",
       "      <th>35</th>\n",
       "      <td>360.0</td>\n",
       "      <td>356</td>\n",
       "    </tr>\n",
       "    <tr>\n",
       "      <th>36</th>\n",
       "      <td>350.0</td>\n",
       "      <td>290</td>\n",
       "    </tr>\n",
       "    <tr>\n",
       "      <th>33</th>\n",
       "      <td>340.0</td>\n",
       "      <td>455</td>\n",
       "    </tr>\n",
       "    <tr>\n",
       "      <th>34</th>\n",
       "      <td>330.0</td>\n",
       "      <td>454</td>\n",
       "    </tr>\n",
       "    <tr>\n",
       "      <th>32</th>\n",
       "      <td>320.0</td>\n",
       "      <td>626</td>\n",
       "    </tr>\n",
       "    <tr>\n",
       "      <th>31</th>\n",
       "      <td>310.0</td>\n",
       "      <td>639</td>\n",
       "    </tr>\n",
       "    <tr>\n",
       "      <th>29</th>\n",
       "      <td>300.0</td>\n",
       "      <td>824</td>\n",
       "    </tr>\n",
       "    <tr>\n",
       "      <th>30</th>\n",
       "      <td>290.0</td>\n",
       "      <td>785</td>\n",
       "    </tr>\n",
       "    <tr>\n",
       "      <th>27</th>\n",
       "      <td>280.0</td>\n",
       "      <td>1077</td>\n",
       "    </tr>\n",
       "    <tr>\n",
       "      <th>28</th>\n",
       "      <td>270.0</td>\n",
       "      <td>971</td>\n",
       "    </tr>\n",
       "    <tr>\n",
       "      <th>25</th>\n",
       "      <td>260.0</td>\n",
       "      <td>1427</td>\n",
       "    </tr>\n",
       "    <tr>\n",
       "      <th>26</th>\n",
       "      <td>250.0</td>\n",
       "      <td>1268</td>\n",
       "    </tr>\n",
       "    <tr>\n",
       "      <th>23</th>\n",
       "      <td>240.0</td>\n",
       "      <td>1753</td>\n",
       "    </tr>\n",
       "    <tr>\n",
       "      <th>24</th>\n",
       "      <td>230.0</td>\n",
       "      <td>1603</td>\n",
       "    </tr>\n",
       "    <tr>\n",
       "      <th>21</th>\n",
       "      <td>220.0</td>\n",
       "      <td>2336</td>\n",
       "    </tr>\n",
       "    <tr>\n",
       "      <th>22</th>\n",
       "      <td>210.0</td>\n",
       "      <td>2131</td>\n",
       "    </tr>\n",
       "    <tr>\n",
       "      <th>19</th>\n",
       "      <td>200.0</td>\n",
       "      <td>2762</td>\n",
       "    </tr>\n",
       "    <tr>\n",
       "      <th>20</th>\n",
       "      <td>190.0</td>\n",
       "      <td>2699</td>\n",
       "    </tr>\n",
       "    <tr>\n",
       "      <th>17</th>\n",
       "      <td>180.0</td>\n",
       "      <td>3786</td>\n",
       "    </tr>\n",
       "    <tr>\n",
       "      <th>18</th>\n",
       "      <td>170.0</td>\n",
       "      <td>3576</td>\n",
       "    </tr>\n",
       "    <tr>\n",
       "      <th>15</th>\n",
       "      <td>160.0</td>\n",
       "      <td>5075</td>\n",
       "    </tr>\n",
       "    <tr>\n",
       "      <th>16</th>\n",
       "      <td>150.0</td>\n",
       "      <td>4828</td>\n",
       "    </tr>\n",
       "    <tr>\n",
       "      <th>13</th>\n",
       "      <td>140.0</td>\n",
       "      <td>6931</td>\n",
       "    </tr>\n",
       "    <tr>\n",
       "      <th>14</th>\n",
       "      <td>130.0</td>\n",
       "      <td>6697</td>\n",
       "    </tr>\n",
       "    <tr>\n",
       "      <th>11</th>\n",
       "      <td>120.0</td>\n",
       "      <td>9783</td>\n",
       "    </tr>\n",
       "    <tr>\n",
       "      <th>12</th>\n",
       "      <td>110.0</td>\n",
       "      <td>9703</td>\n",
       "    </tr>\n",
       "    <tr>\n",
       "      <th>10</th>\n",
       "      <td>100.0</td>\n",
       "      <td>14335</td>\n",
       "    </tr>\n",
       "    <tr>\n",
       "      <th>9</th>\n",
       "      <td>90.0</td>\n",
       "      <td>14821</td>\n",
       "    </tr>\n",
       "    <tr>\n",
       "      <th>8</th>\n",
       "      <td>80.0</td>\n",
       "      <td>23102</td>\n",
       "    </tr>\n",
       "    <tr>\n",
       "      <th>7</th>\n",
       "      <td>70.0</td>\n",
       "      <td>24262</td>\n",
       "    </tr>\n",
       "    <tr>\n",
       "      <th>6</th>\n",
       "      <td>60.0</td>\n",
       "      <td>39688</td>\n",
       "    </tr>\n",
       "    <tr>\n",
       "      <th>5</th>\n",
       "      <td>50.0</td>\n",
       "      <td>44222</td>\n",
       "    </tr>\n",
       "    <tr>\n",
       "      <th>4</th>\n",
       "      <td>40.0</td>\n",
       "      <td>77600</td>\n",
       "    </tr>\n",
       "    <tr>\n",
       "      <th>3</th>\n",
       "      <td>30.0</td>\n",
       "      <td>96513</td>\n",
       "    </tr>\n",
       "    <tr>\n",
       "      <th>2</th>\n",
       "      <td>20.0</td>\n",
       "      <td>201683</td>\n",
       "    </tr>\n",
       "    <tr>\n",
       "      <th>0</th>\n",
       "      <td>10.0</td>\n",
       "      <td>348352</td>\n",
       "    </tr>\n",
       "    <tr>\n",
       "      <th>1</th>\n",
       "      <td>0.0</td>\n",
       "      <td>240329</td>\n",
       "    </tr>\n",
       "  </tbody>\n",
       "</table>\n",
       "</div>"
      ],
      "text/plain": [
       "    sample_num_frac  user_num\n",
       "51            530.0         1\n",
       "49            500.0         3\n",
       "50            490.0         2\n",
       "48            480.0         7\n",
       "47            470.0         9\n",
       "46            460.0        13\n",
       "45            450.0        19\n",
       "44            440.0        41\n",
       "43            430.0        43\n",
       "42            420.0        60\n",
       "41            410.0        78\n",
       "39            400.0       160\n",
       "40            390.0       158\n",
       "38            380.0       208\n",
       "37            370.0       242\n",
       "35            360.0       356\n",
       "36            350.0       290\n",
       "33            340.0       455\n",
       "34            330.0       454\n",
       "32            320.0       626\n",
       "31            310.0       639\n",
       "29            300.0       824\n",
       "30            290.0       785\n",
       "27            280.0      1077\n",
       "28            270.0       971\n",
       "25            260.0      1427\n",
       "26            250.0      1268\n",
       "23            240.0      1753\n",
       "24            230.0      1603\n",
       "21            220.0      2336\n",
       "22            210.0      2131\n",
       "19            200.0      2762\n",
       "20            190.0      2699\n",
       "17            180.0      3786\n",
       "18            170.0      3576\n",
       "15            160.0      5075\n",
       "16            150.0      4828\n",
       "13            140.0      6931\n",
       "14            130.0      6697\n",
       "11            120.0      9783\n",
       "12            110.0      9703\n",
       "10            100.0     14335\n",
       "9              90.0     14821\n",
       "8              80.0     23102\n",
       "7              70.0     24262\n",
       "6              60.0     39688\n",
       "5              50.0     44222\n",
       "4              40.0     77600\n",
       "3              30.0     96513\n",
       "2              20.0    201683\n",
       "0              10.0    348352\n",
       "1               0.0    240329"
      ]
     },
     "execution_count": 62,
     "metadata": {},
     "output_type": "execute_result"
    }
   ],
   "source": [
    "frac_df['sample_num_frac'].value_counts().reset_index().rename(columns={\n",
    "    'sample_num_frac': 'user_num',\n",
    "    'index': 'sample_num_frac'\n",
    "}).sort_values('sample_num_frac', ascending=False)"
   ]
  },
  {
   "cell_type": "markdown",
   "id": "3c75e942",
   "metadata": {},
   "source": [
    "# Hotels  -> 100 hotel_clusters"
   ]
  },
  {
   "cell_type": "code",
   "execution_count": 44,
   "id": "942a0fae",
   "metadata": {},
   "outputs": [
    {
     "name": "stdout",
     "output_type": "stream",
     "text": [
      "train_df: min: 0; max: 99\n",
      "test_df: min: 0; max: 2528242\n"
     ]
    }
   ],
   "source": [
    "print(f\"train_df: min: {min(train_df['hotel_cluster'])}; max: {max(train_df['hotel_cluster'])}\")\n",
    "print(f\"test_df: min: {min(test_df['id'])}; max: {max(test_df['id'])}\")\n"
   ]
  },
  {
   "cell_type": "code",
   "execution_count": 17,
   "id": "a67798e1",
   "metadata": {},
   "outputs": [
    {
     "data": {
      "text/plain": [
       "91    1043720\n",
       "41     772743\n",
       "48     754033\n",
       "64     704734\n",
       "65     670960\n",
       "       ...   \n",
       "35     139122\n",
       "53     134812\n",
       "88     107784\n",
       "27     105040\n",
       "74      48355\n",
       "Name: hotel_cluster, Length: 100, dtype: int64"
      ]
     },
     "execution_count": 17,
     "metadata": {},
     "output_type": "execute_result"
    }
   ],
   "source": [
    "train_df['hotel_cluster'].value_counts()"
   ]
  },
  {
   "cell_type": "code",
   "execution_count": 22,
   "id": "5432854a",
   "metadata": {},
   "outputs": [
    {
     "data": {
      "text/plain": [
       "91    0.027707\n",
       "41    0.020513\n",
       "48    0.020017\n",
       "64    0.018708\n",
       "65    0.017811\n",
       "        ...   \n",
       "35    0.003693\n",
       "53    0.003579\n",
       "88    0.002861\n",
       "27    0.002788\n",
       "74    0.001284\n",
       "Name: hotel_cluster, Length: 100, dtype: float64"
      ]
     },
     "execution_count": 22,
     "metadata": {},
     "output_type": "execute_result"
    }
   ],
   "source": [
    "train_df['hotel_cluster'].value_counts()/len(train_df)"
   ]
  },
  {
   "cell_type": "code",
   "execution_count": 35,
   "id": "662fa14b",
   "metadata": {},
   "outputs": [
    {
     "data": {
      "text/html": [
       "<div>\n",
       "<style scoped>\n",
       "    .dataframe tbody tr th:only-of-type {\n",
       "        vertical-align: middle;\n",
       "    }\n",
       "\n",
       "    .dataframe tbody tr th {\n",
       "        vertical-align: top;\n",
       "    }\n",
       "\n",
       "    .dataframe thead th {\n",
       "        text-align: right;\n",
       "    }\n",
       "</style>\n",
       "<table border=\"1\" class=\"dataframe\">\n",
       "  <thead>\n",
       "    <tr style=\"text-align: right;\">\n",
       "      <th></th>\n",
       "      <th>index</th>\n",
       "      <th>sample_num_frac</th>\n",
       "    </tr>\n",
       "  </thead>\n",
       "  <tbody>\n",
       "    <tr>\n",
       "      <th>0</th>\n",
       "      <td>91</td>\n",
       "      <td>0.028</td>\n",
       "    </tr>\n",
       "    <tr>\n",
       "      <th>1</th>\n",
       "      <td>41</td>\n",
       "      <td>0.021</td>\n",
       "    </tr>\n",
       "    <tr>\n",
       "      <th>2</th>\n",
       "      <td>48</td>\n",
       "      <td>0.020</td>\n",
       "    </tr>\n",
       "    <tr>\n",
       "      <th>3</th>\n",
       "      <td>64</td>\n",
       "      <td>0.019</td>\n",
       "    </tr>\n",
       "    <tr>\n",
       "      <th>4</th>\n",
       "      <td>65</td>\n",
       "      <td>0.018</td>\n",
       "    </tr>\n",
       "    <tr>\n",
       "      <th>...</th>\n",
       "      <td>...</td>\n",
       "      <td>...</td>\n",
       "    </tr>\n",
       "    <tr>\n",
       "      <th>95</th>\n",
       "      <td>35</td>\n",
       "      <td>0.004</td>\n",
       "    </tr>\n",
       "    <tr>\n",
       "      <th>96</th>\n",
       "      <td>53</td>\n",
       "      <td>0.004</td>\n",
       "    </tr>\n",
       "    <tr>\n",
       "      <th>97</th>\n",
       "      <td>88</td>\n",
       "      <td>0.003</td>\n",
       "    </tr>\n",
       "    <tr>\n",
       "      <th>98</th>\n",
       "      <td>27</td>\n",
       "      <td>0.003</td>\n",
       "    </tr>\n",
       "    <tr>\n",
       "      <th>99</th>\n",
       "      <td>74</td>\n",
       "      <td>0.001</td>\n",
       "    </tr>\n",
       "  </tbody>\n",
       "</table>\n",
       "<p>100 rows × 2 columns</p>\n",
       "</div>"
      ],
      "text/plain": [
       "    index  sample_num_frac\n",
       "0      91            0.028\n",
       "1      41            0.021\n",
       "2      48            0.020\n",
       "3      64            0.019\n",
       "4      65            0.018\n",
       "..    ...              ...\n",
       "95     35            0.004\n",
       "96     53            0.004\n",
       "97     88            0.003\n",
       "98     27            0.003\n",
       "99     74            0.001\n",
       "\n",
       "[100 rows x 2 columns]"
      ]
     },
     "execution_count": 35,
     "metadata": {},
     "output_type": "execute_result"
    }
   ],
   "source": [
    "frac_df"
   ]
  },
  {
   "cell_type": "code",
   "execution_count": 43,
   "id": "0fdc237e",
   "metadata": {},
   "outputs": [
    {
     "data": {
      "text/html": [
       "<div>\n",
       "<style scoped>\n",
       "    .dataframe tbody tr th:only-of-type {\n",
       "        vertical-align: middle;\n",
       "    }\n",
       "\n",
       "    .dataframe tbody tr th {\n",
       "        vertical-align: top;\n",
       "    }\n",
       "\n",
       "    .dataframe thead th {\n",
       "        text-align: right;\n",
       "    }\n",
       "</style>\n",
       "<table border=\"1\" class=\"dataframe\">\n",
       "  <thead>\n",
       "    <tr style=\"text-align: right;\">\n",
       "      <th></th>\n",
       "      <th>sample_num_frac</th>\n",
       "      <th>hotel_cluster_num</th>\n",
       "    </tr>\n",
       "  </thead>\n",
       "  <tbody>\n",
       "    <tr>\n",
       "      <th>14</th>\n",
       "      <td>0.028</td>\n",
       "      <td>1</td>\n",
       "    </tr>\n",
       "    <tr>\n",
       "      <th>16</th>\n",
       "      <td>0.021</td>\n",
       "      <td>1</td>\n",
       "    </tr>\n",
       "    <tr>\n",
       "      <th>17</th>\n",
       "      <td>0.020</td>\n",
       "      <td>1</td>\n",
       "    </tr>\n",
       "    <tr>\n",
       "      <th>19</th>\n",
       "      <td>0.019</td>\n",
       "      <td>1</td>\n",
       "    </tr>\n",
       "    <tr>\n",
       "      <th>15</th>\n",
       "      <td>0.018</td>\n",
       "      <td>1</td>\n",
       "    </tr>\n",
       "    <tr>\n",
       "      <th>11</th>\n",
       "      <td>0.016</td>\n",
       "      <td>2</td>\n",
       "    </tr>\n",
       "    <tr>\n",
       "      <th>10</th>\n",
       "      <td>0.015</td>\n",
       "      <td>3</td>\n",
       "    </tr>\n",
       "    <tr>\n",
       "      <th>7</th>\n",
       "      <td>0.014</td>\n",
       "      <td>7</td>\n",
       "    </tr>\n",
       "    <tr>\n",
       "      <th>3</th>\n",
       "      <td>0.013</td>\n",
       "      <td>10</td>\n",
       "    </tr>\n",
       "    <tr>\n",
       "      <th>8</th>\n",
       "      <td>0.012</td>\n",
       "      <td>6</td>\n",
       "    </tr>\n",
       "    <tr>\n",
       "      <th>5</th>\n",
       "      <td>0.011</td>\n",
       "      <td>8</td>\n",
       "    </tr>\n",
       "    <tr>\n",
       "      <th>6</th>\n",
       "      <td>0.010</td>\n",
       "      <td>8</td>\n",
       "    </tr>\n",
       "    <tr>\n",
       "      <th>0</th>\n",
       "      <td>0.009</td>\n",
       "      <td>11</td>\n",
       "    </tr>\n",
       "    <tr>\n",
       "      <th>2</th>\n",
       "      <td>0.008</td>\n",
       "      <td>11</td>\n",
       "    </tr>\n",
       "    <tr>\n",
       "      <th>1</th>\n",
       "      <td>0.007</td>\n",
       "      <td>11</td>\n",
       "    </tr>\n",
       "    <tr>\n",
       "      <th>4</th>\n",
       "      <td>0.006</td>\n",
       "      <td>10</td>\n",
       "    </tr>\n",
       "    <tr>\n",
       "      <th>13</th>\n",
       "      <td>0.005</td>\n",
       "      <td>1</td>\n",
       "    </tr>\n",
       "    <tr>\n",
       "      <th>9</th>\n",
       "      <td>0.004</td>\n",
       "      <td>4</td>\n",
       "    </tr>\n",
       "    <tr>\n",
       "      <th>12</th>\n",
       "      <td>0.003</td>\n",
       "      <td>2</td>\n",
       "    </tr>\n",
       "    <tr>\n",
       "      <th>18</th>\n",
       "      <td>0.001</td>\n",
       "      <td>1</td>\n",
       "    </tr>\n",
       "  </tbody>\n",
       "</table>\n",
       "</div>"
      ],
      "text/plain": [
       "    sample_num_frac  hotel_cluster_num\n",
       "14            0.028                  1\n",
       "16            0.021                  1\n",
       "17            0.020                  1\n",
       "19            0.019                  1\n",
       "15            0.018                  1\n",
       "11            0.016                  2\n",
       "10            0.015                  3\n",
       "7             0.014                  7\n",
       "3             0.013                 10\n",
       "8             0.012                  6\n",
       "5             0.011                  8\n",
       "6             0.010                  8\n",
       "0             0.009                 11\n",
       "2             0.008                 11\n",
       "1             0.007                 11\n",
       "4             0.006                 10\n",
       "13            0.005                  1\n",
       "9             0.004                  4\n",
       "12            0.003                  2\n",
       "18            0.001                  1"
      ]
     },
     "execution_count": 43,
     "metadata": {},
     "output_type": "execute_result"
    }
   ],
   "source": [
    "frac_df['sample_num_frac'].value_counts().reset_index().rename(columns={\n",
    "    'sample_num_frac': 'hotel_cluster_num',\n",
    "    'index': 'sample_num_frac'\n",
    "}).sort_values('sample_num_frac', ascending=False)"
   ]
  },
  {
   "cell_type": "code",
   "execution_count": 19,
   "id": "4351a66c",
   "metadata": {},
   "outputs": [
    {
     "name": "stdout",
     "output_type": "stream",
     "text": [
      "min: 0; max: 99\n"
     ]
    }
   ],
   "source": []
  },
  {
   "cell_type": "markdown",
   "id": "66fc1cc7",
   "metadata": {},
   "source": [
    "# Destination "
   ]
  },
  {
   "cell_type": "code",
   "execution_count": 164,
   "id": "8ffe7b8f",
   "metadata": {},
   "outputs": [
    {
     "data": {
      "text/plain": [
       "8250     1333657\n",
       "8267     1005794\n",
       "8791      619520\n",
       "8268      529007\n",
       "8253      498195\n",
       "          ...   \n",
       "9034           1\n",
       "9040           1\n",
       "60961          1\n",
       "9052           1\n",
       "46970          1\n",
       "Name: srch_destination_id, Length: 59455, dtype: int64"
      ]
     },
     "execution_count": 164,
     "metadata": {},
     "output_type": "execute_result"
    }
   ],
   "source": [
    "train_df['srch_destination_id'].value_counts()"
   ]
  },
  {
   "cell_type": "code",
   "execution_count": 165,
   "id": "e9bec086",
   "metadata": {},
   "outputs": [
    {
     "data": {
      "text/plain": [
       "8250     97678\n",
       "8267     57680\n",
       "8279     30320\n",
       "8253     28297\n",
       "8745     25713\n",
       "         ...  \n",
       "16830        1\n",
       "15948        1\n",
       "35639        1\n",
       "11849        1\n",
       "35864        1\n",
       "Name: srch_destination_id, Length: 36933, dtype: int64"
      ]
     },
     "execution_count": 165,
     "metadata": {},
     "output_type": "execute_result"
    }
   ],
   "source": [
    "train_df[train_df[target_col]==1]['srch_destination_id'].value_counts()"
   ]
  },
  {
   "cell_type": "markdown",
   "id": "ccc492b2",
   "metadata": {},
   "source": [
    "# Baseline -> PopularRec excluding historical bookings"
   ]
  },
  {
   "cell_type": "code",
   "execution_count": 168,
   "id": "8dde45d9",
   "metadata": {},
   "outputs": [],
   "source": [
    "pop_booking = train_df[train_df[target_col]==1].groupby('srch_destination_id')['hotel_'].apply(list).reset_index()"
   ]
  },
  {
   "cell_type": "code",
   "execution_count": 169,
   "id": "0659b22c",
   "metadata": {},
   "outputs": [
    {
     "data": {
      "text/html": [
       "<div>\n",
       "<style scoped>\n",
       "    .dataframe tbody tr th:only-of-type {\n",
       "        vertical-align: middle;\n",
       "    }\n",
       "\n",
       "    .dataframe tbody tr th {\n",
       "        vertical-align: top;\n",
       "    }\n",
       "\n",
       "    .dataframe thead th {\n",
       "        text-align: right;\n",
       "    }\n",
       "</style>\n",
       "<table border=\"1\" class=\"dataframe\">\n",
       "  <thead>\n",
       "    <tr style=\"text-align: right;\">\n",
       "      <th></th>\n",
       "      <th>srch_destination_id</th>\n",
       "      <th>user_id</th>\n",
       "    </tr>\n",
       "  </thead>\n",
       "  <tbody>\n",
       "    <tr>\n",
       "      <th>0</th>\n",
       "      <td>1</td>\n",
       "      <td>[732251, 999935, 1004739, 1004739, 274173, 119...</td>\n",
       "    </tr>\n",
       "    <tr>\n",
       "      <th>1</th>\n",
       "      <td>2</td>\n",
       "      <td>[95132]</td>\n",
       "    </tr>\n",
       "    <tr>\n",
       "      <th>2</th>\n",
       "      <td>4</td>\n",
       "      <td>[146060, 676665, 1039655, 1041278, 1041278, 67...</td>\n",
       "    </tr>\n",
       "    <tr>\n",
       "      <th>3</th>\n",
       "      <td>7</td>\n",
       "      <td>[1058859, 625412, 65514]</td>\n",
       "    </tr>\n",
       "    <tr>\n",
       "      <th>4</th>\n",
       "      <td>8</td>\n",
       "      <td>[351451, 381314, 666715, 777152, 1028468, 8309...</td>\n",
       "    </tr>\n",
       "    <tr>\n",
       "      <th>...</th>\n",
       "      <td>...</td>\n",
       "      <td>...</td>\n",
       "    </tr>\n",
       "    <tr>\n",
       "      <th>36928</th>\n",
       "      <td>65049</td>\n",
       "      <td>[615340]</td>\n",
       "    </tr>\n",
       "    <tr>\n",
       "      <th>36929</th>\n",
       "      <td>65051</td>\n",
       "      <td>[730961, 730961, 13984, 925234]</td>\n",
       "    </tr>\n",
       "    <tr>\n",
       "      <th>36930</th>\n",
       "      <td>65054</td>\n",
       "      <td>[192835]</td>\n",
       "    </tr>\n",
       "    <tr>\n",
       "      <th>36931</th>\n",
       "      <td>65102</td>\n",
       "      <td>[1164199, 1164199]</td>\n",
       "    </tr>\n",
       "    <tr>\n",
       "      <th>36932</th>\n",
       "      <td>65104</td>\n",
       "      <td>[28604]</td>\n",
       "    </tr>\n",
       "  </tbody>\n",
       "</table>\n",
       "<p>36933 rows × 2 columns</p>\n",
       "</div>"
      ],
      "text/plain": [
       "       srch_destination_id                                            user_id\n",
       "0                        1  [732251, 999935, 1004739, 1004739, 274173, 119...\n",
       "1                        2                                            [95132]\n",
       "2                        4  [146060, 676665, 1039655, 1041278, 1041278, 67...\n",
       "3                        7                           [1058859, 625412, 65514]\n",
       "4                        8  [351451, 381314, 666715, 777152, 1028468, 8309...\n",
       "...                    ...                                                ...\n",
       "36928                65049                                           [615340]\n",
       "36929                65051                    [730961, 730961, 13984, 925234]\n",
       "36930                65054                                           [192835]\n",
       "36931                65102                                 [1164199, 1164199]\n",
       "36932                65104                                            [28604]\n",
       "\n",
       "[36933 rows x 2 columns]"
      ]
     },
     "execution_count": 169,
     "metadata": {},
     "output_type": "execute_result"
    }
   ],
   "source": [
    "pop_booking"
   ]
  },
  {
   "cell_type": "markdown",
   "id": "f8021a9f",
   "metadata": {},
   "source": [
    "# PopRec based on destination"
   ]
  },
  {
   "cell_type": "code",
   "execution_count": 155,
   "id": "49a81104",
   "metadata": {},
   "outputs": [
    {
     "data": {
      "text/plain": [
       "(37670293, 24)"
      ]
     },
     "execution_count": 155,
     "metadata": {},
     "output_type": "execute_result"
    }
   ],
   "source": [
    "train_df.shape"
   ]
  },
  {
   "cell_type": "code",
   "execution_count": null,
   "id": "2bfd4efe",
   "metadata": {},
   "outputs": [],
   "source": []
  },
  {
   "cell_type": "markdown",
   "id": "439c4b10",
   "metadata": {},
   "source": [
    " # Baseline -> random excluding historical bookings"
   ]
  },
  {
   "cell_type": "code",
   "execution_count": 70,
   "id": "b563a6f2",
   "metadata": {},
   "outputs": [],
   "source": [
    "pop_lst = train_df[train_df[target_col]==1]['hotel_cluster'].value_counts().reset_index().rename(columns={\n",
    "    \"index\": 'hotel_cluster'\n",
    "    , 'hotel_cluster': 'bookings'\n",
    "})"
   ]
  },
  {
   "cell_type": "code",
   "execution_count": 130,
   "id": "9990eb38",
   "metadata": {},
   "outputs": [
    {
     "data": {
      "text/plain": [
       "'91 48 42 59 28'"
      ]
     },
     "execution_count": 130,
     "metadata": {},
     "output_type": "execute_result"
    }
   ],
   "source": [
    "' '.join([str(ele) for ele in pop_lst.head(5)['hotel_cluster'].values.tolist()])"
   ]
  },
  {
   "cell_type": "code",
   "execution_count": 138,
   "id": "1801c5e9",
   "metadata": {},
   "outputs": [],
   "source": [
    "# def get_pop_rec(x, pop_lst):\n",
    "#     hotel_lst = x['hotel_cluster'].unique().tolist()\n",
    "#     res = []\n",
    "# #     print(hotel_lst)\n",
    "#     while len(res)<5 and len(pop_lst)>0:\n",
    "#         current = pop_lst.pop(-1)\n",
    "#         if current not in hotel_lst:\n",
    "#             res.append(str(current))\n",
    "#         else:\n",
    "#             continue\n",
    "#     return ' '.join(res)\n",
    "\n",
    "import random\n",
    "def get_random_rec(x, pop_lst):\n",
    "    hotel_lst = x['hotel_cluster'].unique().tolist()\n",
    "    res = []\n",
    "    random.shuffle(pop_lst)\n",
    "#     print(hotel_lst)\n",
    "    while len(res)<5 and len(pop_lst)>0:\n",
    "        current = pop_lst.pop(-1)\n",
    "        if current not in hotel_lst:\n",
    "            res.append(str(current))\n",
    "        else:\n",
    "            continue\n",
    "    return ' '.join(res)"
   ]
  },
  {
   "cell_type": "raw",
   "id": "0cad4443",
   "metadata": {},
   "source": []
  },
  {
   "cell_type": "code",
   "execution_count": 82,
   "id": "97d99293",
   "metadata": {},
   "outputs": [],
   "source": [
    "pop_hotel_lst = pop_lst['hotel_cluster'].values.tolist()"
   ]
  },
  {
   "cell_type": "code",
   "execution_count": 83,
   "id": "285c4701",
   "metadata": {},
   "outputs": [],
   "source": [
    "pop_hotel_lst.reverse()"
   ]
  },
  {
   "cell_type": "code",
   "execution_count": 98,
   "id": "2f831d15",
   "metadata": {},
   "outputs": [],
   "source": [
    "# pop_hotel_lst\n",
    "from copy import deepcopy"
   ]
  },
  {
   "cell_type": "code",
   "execution_count": 102,
   "id": "679929f0",
   "metadata": {},
   "outputs": [
    {
     "data": {
      "text/plain": [
       "0    12\n",
       "1    12\n",
       "2    12\n",
       "3    93\n",
       "4    93\n",
       "Name: user_id, dtype: int64"
      ]
     },
     "execution_count": 102,
     "metadata": {},
     "output_type": "execute_result"
    }
   ],
   "source": [
    "train_df['user_id'].head()"
   ]
  },
  {
   "cell_type": "code",
   "execution_count": 140,
   "id": "522b0d13",
   "metadata": {},
   "outputs": [],
   "source": [
    "# use_res = train_df[train_df['user_id']==1187360].groupby('user_id').apply(lambda x: get_random_rec(x, deepcopy(pop_hotel_lst)))"
   ]
  },
  {
   "cell_type": "code",
   "execution_count": 142,
   "id": "2007ea6b",
   "metadata": {},
   "outputs": [],
   "source": [
    "# use_res"
   ]
  },
  {
   "cell_type": "code",
   "execution_count": 143,
   "id": "11dc6bd7",
   "metadata": {
    "scrolled": true
   },
   "outputs": [],
   "source": [
    "use_res = train_df.groupby('user_id').apply(lambda x: get_random_rec(x, deepcopy(pop_hotel_lst)))"
   ]
  },
  {
   "cell_type": "code",
   "execution_count": 144,
   "id": "f63fd8cd",
   "metadata": {},
   "outputs": [
    {
     "data": {
      "text/plain": [
       "user_id\n",
       "0     77 84 11 7 78\n",
       "1     13 76 92 66 0\n",
       "2      58 64 6 0 20\n",
       "3    15 20 11 56 64\n",
       "4     58 42 5 35 86\n",
       "dtype: object"
      ]
     },
     "execution_count": 144,
     "metadata": {},
     "output_type": "execute_result"
    }
   ],
   "source": [
    "use_res.head()"
   ]
  },
  {
   "cell_type": "code",
   "execution_count": 145,
   "id": "80bd1c5e",
   "metadata": {},
   "outputs": [],
   "source": [
    "res_df = use_res.reset_index().rename(columns={\n",
    "    0:'hotel_cluster' \n",
    "    , 'user_id': 'id'\n",
    "})"
   ]
  },
  {
   "cell_type": "code",
   "execution_count": 146,
   "id": "19a5a671",
   "metadata": {},
   "outputs": [
    {
     "data": {
      "text/html": [
       "<div>\n",
       "<style scoped>\n",
       "    .dataframe tbody tr th:only-of-type {\n",
       "        vertical-align: middle;\n",
       "    }\n",
       "\n",
       "    .dataframe tbody tr th {\n",
       "        vertical-align: top;\n",
       "    }\n",
       "\n",
       "    .dataframe thead th {\n",
       "        text-align: right;\n",
       "    }\n",
       "</style>\n",
       "<table border=\"1\" class=\"dataframe\">\n",
       "  <thead>\n",
       "    <tr style=\"text-align: right;\">\n",
       "      <th></th>\n",
       "      <th>id</th>\n",
       "      <th>hotel_cluster</th>\n",
       "    </tr>\n",
       "  </thead>\n",
       "  <tbody>\n",
       "    <tr>\n",
       "      <th>0</th>\n",
       "      <td>0</td>\n",
       "      <td>77 84 11 7 78</td>\n",
       "    </tr>\n",
       "    <tr>\n",
       "      <th>1</th>\n",
       "      <td>1</td>\n",
       "      <td>13 76 92 66 0</td>\n",
       "    </tr>\n",
       "    <tr>\n",
       "      <th>2</th>\n",
       "      <td>2</td>\n",
       "      <td>58 64 6 0 20</td>\n",
       "    </tr>\n",
       "    <tr>\n",
       "      <th>3</th>\n",
       "      <td>3</td>\n",
       "      <td>15 20 11 56 64</td>\n",
       "    </tr>\n",
       "    <tr>\n",
       "      <th>4</th>\n",
       "      <td>4</td>\n",
       "      <td>58 42 5 35 86</td>\n",
       "    </tr>\n",
       "    <tr>\n",
       "      <th>...</th>\n",
       "      <td>...</td>\n",
       "      <td>...</td>\n",
       "    </tr>\n",
       "    <tr>\n",
       "      <th>1198781</th>\n",
       "      <td>1198781</td>\n",
       "      <td>64 49 35 1 36</td>\n",
       "    </tr>\n",
       "    <tr>\n",
       "      <th>1198782</th>\n",
       "      <td>1198782</td>\n",
       "      <td>2 8 57 16 44</td>\n",
       "    </tr>\n",
       "    <tr>\n",
       "      <th>1198783</th>\n",
       "      <td>1198783</td>\n",
       "      <td>79 95 81 0 46</td>\n",
       "    </tr>\n",
       "    <tr>\n",
       "      <th>1198784</th>\n",
       "      <td>1198784</td>\n",
       "      <td>35 3 64 34 21</td>\n",
       "    </tr>\n",
       "    <tr>\n",
       "      <th>1198785</th>\n",
       "      <td>1198785</td>\n",
       "      <td>25 31 34 9 78</td>\n",
       "    </tr>\n",
       "  </tbody>\n",
       "</table>\n",
       "<p>1198786 rows × 2 columns</p>\n",
       "</div>"
      ],
      "text/plain": [
       "              id   hotel_cluster\n",
       "0              0   77 84 11 7 78\n",
       "1              1   13 76 92 66 0\n",
       "2              2    58 64 6 0 20\n",
       "3              3  15 20 11 56 64\n",
       "4              4   58 42 5 35 86\n",
       "...          ...             ...\n",
       "1198781  1198781   64 49 35 1 36\n",
       "1198782  1198782    2 8 57 16 44\n",
       "1198783  1198783   79 95 81 0 46\n",
       "1198784  1198784   35 3 64 34 21\n",
       "1198785  1198785   25 31 34 9 78\n",
       "\n",
       "[1198786 rows x 2 columns]"
      ]
     },
     "execution_count": 146,
     "metadata": {},
     "output_type": "execute_result"
    }
   ],
   "source": [
    "res_df"
   ]
  },
  {
   "cell_type": "code",
   "execution_count": 147,
   "id": "02cae8a2",
   "metadata": {},
   "outputs": [],
   "source": [
    "submission_df = submission_df.drop('hotel_cluster', axis=1)\n"
   ]
  },
  {
   "cell_type": "code",
   "execution_count": 148,
   "id": "93f8711f",
   "metadata": {},
   "outputs": [],
   "source": [
    "submission_df = submission_df.merge(res_df, how='left', on='id')"
   ]
  },
  {
   "cell_type": "code",
   "execution_count": 149,
   "id": "acf76677",
   "metadata": {},
   "outputs": [],
   "source": [
    "submission_df['hotel_cluster'] = submission_df['hotel_cluster'].fillna('91 48 42 59 28')"
   ]
  },
  {
   "cell_type": "code",
   "execution_count": 150,
   "id": "b1280dd0",
   "metadata": {},
   "outputs": [
    {
     "data": {
      "text/plain": [
       "0"
      ]
     },
     "execution_count": 150,
     "metadata": {},
     "output_type": "execute_result"
    }
   ],
   "source": [
    "submission_df['hotel_cluster'].isna().sum()"
   ]
  },
  {
   "cell_type": "code",
   "execution_count": 151,
   "id": "fc3ff2e0",
   "metadata": {},
   "outputs": [
    {
     "data": {
      "text/plain": [
       "851701      77 30 8 51 62\n",
       "1662595    91 48 42 59 28\n",
       "503300     61 59 94 71 52\n",
       "1409034    91 48 42 59 28\n",
       "1773810    91 48 42 59 28\n",
       "1562762    91 48 42 59 28\n",
       "1316332    91 48 42 59 28\n",
       "650447      55 63 36 30 4\n",
       "1037037     51 29 25 66 5\n",
       "387539     13 28 64 51 91\n",
       "Name: hotel_cluster, dtype: object"
      ]
     },
     "execution_count": 151,
     "metadata": {},
     "output_type": "execute_result"
    }
   ],
   "source": [
    "submission_df['hotel_cluster'].sample(10)"
   ]
  },
  {
   "cell_type": "code",
   "execution_count": 152,
   "id": "80cc6850",
   "metadata": {},
   "outputs": [],
   "source": [
    "# submission_df.to_csv('../result/0901_pop_rec_exclude_booked.csv', index=False)\n",
    "submission_df.to_csv('../result/0901_random_rec_exclude_booked.csv', index=False)"
   ]
  },
  {
   "cell_type": "markdown",
   "id": "dc850c63",
   "metadata": {},
   "source": []
  },
  {
   "cell_type": "markdown",
   "id": "37f45b7c",
   "metadata": {},
   "source": [
    "# Debug data "
   ]
  },
  {
   "cell_type": "code",
   "execution_count": 183,
   "id": "6e3a4142",
   "metadata": {},
   "outputs": [],
   "source": [
    "debug_train = pd.read_csv('../data/debug_data/train.csv')"
   ]
  },
  {
   "cell_type": "code",
   "execution_count": 184,
   "id": "ed60cf1a",
   "metadata": {},
   "outputs": [
    {
     "name": "stdout",
     "output_type": "stream",
     "text": [
      "<class 'pandas.core.frame.DataFrame'>\n",
      "RangeIndex: 10000 entries, 0 to 9999\n",
      "Data columns (total 24 columns):\n",
      " #   Column                     Non-Null Count  Dtype  \n",
      "---  ------                     --------------  -----  \n",
      " 0   date_time                  10000 non-null  object \n",
      " 1   site_name                  10000 non-null  int64  \n",
      " 2   posa_continent             10000 non-null  int64  \n",
      " 3   user_location_country      10000 non-null  int64  \n",
      " 4   user_location_region       10000 non-null  int64  \n",
      " 5   user_location_city         10000 non-null  int64  \n",
      " 6   orig_destination_distance  6461 non-null   float64\n",
      " 7   user_id                    10000 non-null  int64  \n",
      " 8   is_mobile                  10000 non-null  int64  \n",
      " 9   is_package                 10000 non-null  int64  \n",
      " 10  channel                    10000 non-null  int64  \n",
      " 11  srch_ci                    9990 non-null   object \n",
      " 12  srch_co                    9990 non-null   object \n",
      " 13  srch_adults_cnt            10000 non-null  int64  \n",
      " 14  srch_children_cnt          10000 non-null  int64  \n",
      " 15  srch_rm_cnt                10000 non-null  int64  \n",
      " 16  srch_destination_id        10000 non-null  int64  \n",
      " 17  srch_destination_type_id   10000 non-null  int64  \n",
      " 18  is_booking                 10000 non-null  int64  \n",
      " 19  cnt                        10000 non-null  int64  \n",
      " 20  hotel_continent            10000 non-null  int64  \n",
      " 21  hotel_country              10000 non-null  int64  \n",
      " 22  hotel_market               10000 non-null  int64  \n",
      " 23  hotel_cluster              10000 non-null  int64  \n",
      "dtypes: float64(1), int64(20), object(3)\n",
      "memory usage: 1.8+ MB\n"
     ]
    }
   ],
   "source": [
    "debug_train.info()"
   ]
  },
  {
   "cell_type": "code",
   "execution_count": 187,
   "id": "dd2f02f6",
   "metadata": {},
   "outputs": [],
   "source": [
    "new_df = train_df[train_df['date_time']>'2014-12-23 07:46:59']"
   ]
  },
  {
   "cell_type": "code",
   "execution_count": 188,
   "id": "cc43d9d7",
   "metadata": {},
   "outputs": [
    {
     "data": {
      "text/plain": [
       "'2014-12-31 23:59:59'"
      ]
     },
     "execution_count": 188,
     "metadata": {},
     "output_type": "execute_result"
    }
   ],
   "source": [
    "max(new_df['date_time'])"
   ]
  },
  {
   "cell_type": "code",
   "execution_count": 189,
   "id": "ca555e66",
   "metadata": {},
   "outputs": [
    {
     "data": {
      "text/plain": [
       "'2014-12-23 07:47:00'"
      ]
     },
     "execution_count": 189,
     "metadata": {},
     "output_type": "execute_result"
    }
   ],
   "source": [
    "min(new_df['date_time'])"
   ]
  },
  {
   "cell_type": "code",
   "execution_count": null,
   "id": "b41ccec1",
   "metadata": {},
   "outputs": [],
   "source": []
  }
 ],
 "metadata": {
  "hide_input": false,
  "kernelspec": {
   "display_name": "Python3.8(expedia)",
   "language": "python",
   "name": "ml_project"
  },
  "language_info": {
   "codemirror_mode": {
    "name": "ipython",
    "version": 3
   },
   "file_extension": ".py",
   "mimetype": "text/x-python",
   "name": "python",
   "nbconvert_exporter": "python",
   "pygments_lexer": "ipython3",
   "version": "3.8.13"
  },
  "toc": {
   "base_numbering": 1,
   "nav_menu": {},
   "number_sections": true,
   "sideBar": true,
   "skip_h1_title": false,
   "title_cell": "Table of Contents",
   "title_sidebar": "Contents",
   "toc_cell": false,
   "toc_position": {
    "height": "calc(100% - 180px)",
    "left": "10px",
    "top": "150px",
    "width": "288px"
   },
   "toc_section_display": true,
   "toc_window_display": true
  }
 },
 "nbformat": 4,
 "nbformat_minor": 5
}
